{
 "cells": [
  {
   "cell_type": "code",
   "execution_count": 2,
   "metadata": {},
   "outputs": [],
   "source": [
    "\n",
    "import matplotlib.pyplot as plt\n",
    "from IPython import display\n",
    "\n",
    "# import functions to read xml file and visualize commonroad objects\n",
    "#from commonroad.common.file_reader import CommonRoadFileReader\n",
    "#from commonroad.visualization.draw_dispatch_cr import draw_object\n",
    "\n",
    "# generate path of the file to be opened\n",
    "#file_path = os.path.join(os.getcwd(),\"critical_scenarios/MPP_DEU_LocationA-11_3_T-1.xml\")\n",
    "# read in the scenario and planning problem set\n",
    "#scenario, planning_problem_set = CommonRoadFileReader(file_path).open()\n",
    "# plot the scenario for 40 time step, here each time step corresponds to 0.1 second\n"
   ]
  },
  {
   "cell_type": "code",
   "execution_count": 13,
   "metadata": {},
   "outputs": [],
   "source": [
    "import os\n",
    "import numpy as np\n",
    "import pandas as pd\n",
    "import algs.decision_tree\n",
    "# There are 60 recordings\n",
    "BASIC_PATH = os.getcwd()+'/highD-dataset/Python'\n",
    "recording_ids = [str(idx) if not len(str(idx)) == 1 else '0' + str(idx) for idx in list(range(1,61))]\n",
    "data_prefix = BASIC_PATH+'/data/'\n",
    "image_suffix = '_highway.jpg'\n",
    "recording_meta_suffix = '_recordingMeta.csv'\n",
    "tracks_meta_suffix = '_tracksMeta.csv'\n",
    "tracks_suffix = '_tracks.csv'"
   ]
  },
  {
   "cell_type": "code",
   "execution_count": null,
   "metadata": {},
   "outputs": [],
   "source": []
  },
  {
   "cell_type": "code",
   "execution_count": null,
   "metadata": {},
   "outputs": [],
   "source": []
  },
  {
   "cell_type": "code",
   "execution_count": 14,
   "metadata": {},
   "outputs": [
    {
     "name": "stderr",
     "output_type": "stream",
     "text": [
      "/Users/lqx/anaconda3/lib/python3.6/site-packages/ipykernel_launcher.py:5: SettingWithCopyWarning: \n",
      "A value is trying to be set on a copy of a slice from a DataFrame.\n",
      "Try using .loc[row_indexer,col_indexer] = value instead\n",
      "\n",
      "See the caveats in the documentation: http://pandas.pydata.org/pandas-docs/stable/indexing.html#indexing-view-versus-copy\n",
      "  \"\"\"\n"
     ]
    }
   ],
   "source": [
    "track_meta_01 = pd.read_csv(data_prefix + recording_ids[0] + tracks_meta_suffix).set_index('id')\n",
    "filtered_track_meta_01 = track_meta_01[(track_meta_01['numFrames'] >= 100) & (track_meta_01['minDHW'] > 0) & (track_meta_01['minTHW'] > 0) & (track_meta_01['minTTC'] > 0) & (track_meta_01['numLaneChanges'] > 0)]\n",
    "filtered_track_meta_01.head()\n",
    "df = filtered_track_meta_01\n",
    "df['label'] = 1\n",
    "df = df.reset_index()"
   ]
  },
  {
   "cell_type": "code",
   "execution_count": 15,
   "metadata": {},
   "outputs": [],
   "source": [
    "df = df.drop('initialFrame',axis =1)\n",
    "df = df.drop('finalFrame',axis =1)\n",
    "df = df.drop('numFrames',axis =1)\n",
    "df = df[df.drivingDirection == 1]\n",
    "df = df.drop('drivingDirection',axis =1)\n",
    "#df = df[df['class']==1]\n",
    "df = df.drop('class', axis=1)\n",
    "df = df.drop('traveledDistance', axis=1)\n",
    "df = df.drop('width', axis=1)\n",
    "df = df.drop('height', axis=1)\n"
   ]
  },
  {
   "cell_type": "code",
   "execution_count": 16,
   "metadata": {},
   "outputs": [
    {
     "ename": "NameError",
     "evalue": "name 'plt' is not defined",
     "output_type": "error",
     "traceback": [
      "\u001b[0;31m---------------------------------------------------------------------------\u001b[0m",
      "\u001b[0;31mNameError\u001b[0m                                 Traceback (most recent call last)",
      "\u001b[0;32m<ipython-input-16-ae7f4e449b10>\u001b[0m in \u001b[0;36m<module>\u001b[0;34m()\u001b[0m\n\u001b[1;32m      4\u001b[0m \u001b[0mprint_df\u001b[0m\u001b[0;34m=\u001b[0m\u001b[0mdf\u001b[0m\u001b[0;34m[\u001b[0m\u001b[0;36m0\u001b[0m\u001b[0;34m:\u001b[0m\u001b[0;36m10\u001b[0m\u001b[0;34m]\u001b[0m\u001b[0;34m\u001b[0m\u001b[0m\n\u001b[1;32m      5\u001b[0m \u001b[0mtable\u001b[0m \u001b[0;34m=\u001b[0m \u001b[0mpd\u001b[0m\u001b[0;34m.\u001b[0m\u001b[0mDataFrame\u001b[0m\u001b[0;34m(\u001b[0m\u001b[0mprint_df\u001b[0m\u001b[0;34m)\u001b[0m\u001b[0;34m\u001b[0m\u001b[0m\n\u001b[0;32m----> 6\u001b[0;31m \u001b[0mfig\u001b[0m \u001b[0;34m=\u001b[0m \u001b[0mplt\u001b[0m\u001b[0;34m.\u001b[0m\u001b[0mfigure\u001b[0m\u001b[0;34m(\u001b[0m\u001b[0;34m)\u001b[0m\u001b[0;34m\u001b[0m\u001b[0m\n\u001b[0m\u001b[1;32m      7\u001b[0m \u001b[0;34m\u001b[0m\u001b[0m\n\u001b[1;32m      8\u001b[0m \u001b[0max\u001b[0m\u001b[0;34m=\u001b[0m\u001b[0mfig\u001b[0m\u001b[0;34m.\u001b[0m\u001b[0madd_subplot\u001b[0m\u001b[0;34m(\u001b[0m\u001b[0;36m111\u001b[0m\u001b[0;34m)\u001b[0m\u001b[0;34m\u001b[0m\u001b[0m\n",
      "\u001b[0;31mNameError\u001b[0m: name 'plt' is not defined"
     ]
    }
   ],
   "source": [
    "import matplotlib.backends.backend_pdf\n",
    "basic_path = '/Users/lqx/masterStudium/MotionP/'\n",
    "latex_path = basic_path + 'latex'\n",
    "print_df=df[0:10]\n",
    "table = pd.DataFrame(print_df)\n",
    "fig = plt.figure()\n",
    "\n",
    "ax=fig.add_subplot(111)\n",
    "plt.subplots_adjust(top=0.09, bottom=0.01)\n",
    "cell_text = []\n",
    "for row in range(len(table)):\n",
    "    cell_text.append(table.iloc[row])\n",
    "\n",
    "tab = ax.table(cellText=cell_text, colLabels=table.columns, colWidths=[0.12]*8+[0.06]*3,loc='center')\n",
    "\n",
    "tab.auto_set_font_size(False)\n",
    "tab.set_fontsize(4)\n",
    "ax.axis('off')\n",
    "\n",
    "pdf = matplotlib.backends.backend_pdf.PdfPages(latex_path+'/fig/df_10.pdf')\n",
    "pdf.savefig(fig,bbox_inches=\"tight\")\n",
    "pdf.close()"
   ]
  },
  {
   "cell_type": "code",
   "execution_count": 11,
   "metadata": {},
   "outputs": [
    {
     "data": {
      "text/html": [
       "<div>\n",
       "<style scoped>\n",
       "    .dataframe tbody tr th:only-of-type {\n",
       "        vertical-align: middle;\n",
       "    }\n",
       "\n",
       "    .dataframe tbody tr th {\n",
       "        vertical-align: top;\n",
       "    }\n",
       "\n",
       "    .dataframe thead th {\n",
       "        text-align: right;\n",
       "    }\n",
       "</style>\n",
       "<table border=\"1\" class=\"dataframe\">\n",
       "  <thead>\n",
       "    <tr style=\"text-align: right;\">\n",
       "      <th></th>\n",
       "      <th>id</th>\n",
       "      <th>minXVelocity</th>\n",
       "      <th>maxXVelocity</th>\n",
       "      <th>meanXVelocity</th>\n",
       "      <th>minDHW</th>\n",
       "      <th>minTHW</th>\n",
       "      <th>minTTC</th>\n",
       "      <th>numLaneChanges</th>\n",
       "      <th>label</th>\n",
       "    </tr>\n",
       "  </thead>\n",
       "  <tbody>\n",
       "    <tr>\n",
       "      <th>0</th>\n",
       "      <td>9</td>\n",
       "      <td>35.99</td>\n",
       "      <td>36.62</td>\n",
       "      <td>36.42</td>\n",
       "      <td>33.68</td>\n",
       "      <td>0.92</td>\n",
       "      <td>9.74</td>\n",
       "      <td>1</td>\n",
       "      <td>1</td>\n",
       "    </tr>\n",
       "    <tr>\n",
       "      <th>2</th>\n",
       "      <td>30</td>\n",
       "      <td>30.82</td>\n",
       "      <td>31.73</td>\n",
       "      <td>31.44</td>\n",
       "      <td>42.13</td>\n",
       "      <td>1.33</td>\n",
       "      <td>6.80</td>\n",
       "      <td>1</td>\n",
       "      <td>1</td>\n",
       "    </tr>\n",
       "    <tr>\n",
       "      <th>4</th>\n",
       "      <td>58</td>\n",
       "      <td>32.64</td>\n",
       "      <td>35.39</td>\n",
       "      <td>34.50</td>\n",
       "      <td>33.55</td>\n",
       "      <td>0.95</td>\n",
       "      <td>2.61</td>\n",
       "      <td>1</td>\n",
       "      <td>1</td>\n",
       "    </tr>\n",
       "    <tr>\n",
       "      <th>6</th>\n",
       "      <td>79</td>\n",
       "      <td>24.66</td>\n",
       "      <td>34.41</td>\n",
       "      <td>30.01</td>\n",
       "      <td>7.18</td>\n",
       "      <td>0.23</td>\n",
       "      <td>3.38</td>\n",
       "      <td>1</td>\n",
       "      <td>1</td>\n",
       "    </tr>\n",
       "    <tr>\n",
       "      <th>8</th>\n",
       "      <td>96</td>\n",
       "      <td>36.72</td>\n",
       "      <td>37.65</td>\n",
       "      <td>37.26</td>\n",
       "      <td>39.80</td>\n",
       "      <td>1.07</td>\n",
       "      <td>4.91</td>\n",
       "      <td>1</td>\n",
       "      <td>1</td>\n",
       "    </tr>\n",
       "  </tbody>\n",
       "</table>\n",
       "</div>"
      ],
      "text/plain": [
       "   id  minXVelocity  maxXVelocity  meanXVelocity  minDHW  minTHW  minTTC  \\\n",
       "0   9         35.99         36.62          36.42   33.68    0.92    9.74   \n",
       "2  30         30.82         31.73          31.44   42.13    1.33    6.80   \n",
       "4  58         32.64         35.39          34.50   33.55    0.95    2.61   \n",
       "6  79         24.66         34.41          30.01    7.18    0.23    3.38   \n",
       "8  96         36.72         37.65          37.26   39.80    1.07    4.91   \n",
       "\n",
       "   numLaneChanges  label  \n",
       "0               1      1  \n",
       "2               1      1  \n",
       "4               1      1  \n",
       "6               1      1  \n",
       "8               1      1  "
      ]
     },
     "execution_count": 11,
     "metadata": {},
     "output_type": "execute_result"
    }
   ],
   "source": [
    "df.head()\n",
    "print(len(df.columns))"
   ]
  },
  {
   "cell_type": "code",
   "execution_count": 19,
   "metadata": {},
   "outputs": [
    {
     "name": "stdout",
     "output_type": "stream",
     "text": [
      "CPU times: user 14.3 s, sys: 140 ms, total: 14.5 s\n",
      "Wall time: 14.5 s\n"
     ]
    }
   ],
   "source": [
    "%time test_tree = algs.decision_tree.build_tree(df,10)"
   ]
  },
  {
   "cell_type": "code",
   "execution_count": 21,
   "metadata": {},
   "outputs": [
    {
     "name": "stdout",
     "output_type": "stream",
     "text": [
      "0L: minTHW\n",
      "0R: minTTC\n",
      "0L1L: minTTC\n",
      "0L1R: minTHW\n",
      "0L1L2L: numLaneChanges\n",
      "0L1L2R: meanXVelocity\n",
      "0L1L2L3L: minDHW\n",
      "0L1L2L3R: {13: 123, 16: 139, 44: 468, 84: 860, 103: 1029}\n",
      "0L1L2L3L4L: minTTC\n",
      "0L1L2L3L4R: {14: 126, 45: 471, 59: 557, 98: 985}\n",
      "0L1L2L3L4L5L: meanXVelocity\n",
      "0L1L2L3L4L5R: maxXVelocity\n",
      "0L1L2L3L4L5L6L: minTTC\n",
      "0L1L2L3L4L5L6R: {8: 96}\n",
      "0L1L2L3L4L5L6L7L: {97: 977}\n",
      "0L1L2L3L4L5L6L7R: minTTC\n",
      "0L1L2L3L4L5L6L7R8L: minTHW\n",
      "0L1L2L3L4L5L6L7R8R: maxXVelocity\n",
      "0L1L2L3L4L5L6L7R8L9L: {6: 79, 49: 484, 69: 701, 74: 732}\n",
      "0L1L2L3L4L5L6L7R8L9R: minTTC\n",
      "0L1L2L3L4L5L6L7R8L9R10L: {4: 58, 94: 949, 104: 1031}\n",
      "0L1L2L3L4L5L6L7R8L9R10R: {35: 314, 85: 863, 102: 1026}\n",
      "0L1L2L3L4L5L6L7R8R9L: minTTC\n",
      "0L1L2L3L4L5L6L7R8R9R: {46: 472, 64: 652}\n",
      "0L1L2L3L4L5L6L7R8R9L10L: {51: 497, 80: 822, 100: 1012}\n",
      "0L1L2L3L4L5L6L7R8R9L10R: {2: 30, 12: 119, 18: 153, 34: 309, 53: 530}\n",
      "0L1L2L3L4L5R6L: {30: 261, 40: 429, 48: 482, 50: 487, 52: 499}\n",
      "0L1L2L3L4L5R6R: {0: 9, 22: 165, 78: 783}\n",
      "0L1L2R3L: {56: 547}\n",
      "0L1L2R3R: meanXVelocity\n",
      "0L1L2R3R4L: minTTC\n",
      "0L1L2R3R4R: {73: 731}\n",
      "0L1L2R3R4L5L: {23: 168, 26: 193, 32: 281, 70: 718, 93: 941}\n",
      "0L1L2R3R4L5R: {65: 655}\n",
      "0L1R2L: {62: 639, 66: 665, 71: 726}\n",
      "0L1R2R: {21: 161, 82: 835, 90: 926}\n",
      "0R1L: {10: 116, 47: 475, 75: 745, 91: 928}\n",
      "0R1R: {20: 160, 54: 531}\n"
     ]
    }
   ],
   "source": [
    "test_dict=algs.decision_tree.pre_traversal(test_tree,0)"
   ]
  },
  {
   "cell_type": "code",
   "execution_count": 21,
   "metadata": {},
   "outputs": [
    {
     "data": {
      "text/plain": [
       "{'0L1L2L3R': {13: 123, 16: 139, 44: 468, 84: 860, 103: 1029},\n",
       " '0L1L2L3L4R': {14: 126, 45: 471, 59: 557, 98: 985},\n",
       " '0L1L2L3L4L5L6R': {8: 96},\n",
       " '0L1L2L3L4L5L6L7L': {97: 977},\n",
       " '0L1L2L3L4L5L6L7R8L9L': {6: 79, 49: 484, 69: 701, 74: 732},\n",
       " '0L1L2L3L4L5L6L7R8L9R10L': {4: 58, 94: 949, 104: 1031},\n",
       " '0L1L2L3L4L5L6L7R8L9R10R': {35: 314, 85: 863, 102: 1026},\n",
       " '0L1L2L3L4L5L6L7R8R9R': {46: 472, 64: 652},\n",
       " '0L1L2L3L4L5L6L7R8R9L10L': {51: 497, 80: 822, 100: 1012},\n",
       " '0L1L2L3L4L5L6L7R8R9L10R': {2: 30, 12: 119, 18: 153, 34: 309, 53: 530},\n",
       " '0L1L2L3L4L5R6L': {30: 261, 40: 429, 48: 482, 50: 487, 52: 499},\n",
       " '0L1L2L3L4L5R6R': {0: 9, 22: 165, 78: 783},\n",
       " '0L1L2R3L': {56: 547},\n",
       " '0L1L2R3R4R': {73: 731},\n",
       " '0L1L2R3R4L5L': {23: 168, 26: 193, 32: 281, 70: 718, 93: 941},\n",
       " '0L1L2R3R4L5R': {65: 655},\n",
       " '0L1R2L': {62: 639, 66: 665, 71: 726},\n",
       " '0L1R2R': {21: 161, 82: 835, 90: 926},\n",
       " '0R1L': {10: 116, 47: 475, 75: 745, 91: 928},\n",
       " '0R1R': {20: 160, 54: 531}}"
      ]
     },
     "execution_count": 21,
     "metadata": {},
     "output_type": "execute_result"
    }
   ],
   "source": [
    "test_dict"
   ]
  }
 ],
 "metadata": {
  "kernelspec": {
   "display_name": "Python 3",
   "language": "python",
   "name": "python3"
  },
  "language_info": {
   "codemirror_mode": {
    "name": "ipython",
    "version": 3
   },
   "file_extension": ".py",
   "mimetype": "text/x-python",
   "name": "python",
   "nbconvert_exporter": "python",
   "pygments_lexer": "ipython3",
   "version": "3.7.4"
  }
 },
 "nbformat": 4,
 "nbformat_minor": 2
}
